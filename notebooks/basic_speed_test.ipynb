{
  "cells": [
    {
      "cell_type": "code",
      "execution_count": null,
      "metadata": {},
      "outputs": [],
      "source": [
        "%load_ext autoreload\n",
        "%autoreload 2"
      ]
    },
    {
      "cell_type": "markdown",
      "metadata": {},
      "source": [
        "# pLSTM-1D"
      ]
    },
    {
      "cell_type": "code",
      "execution_count": null,
      "metadata": {},
      "outputs": [],
      "source": [
        "from plstm.nnx.plstm_1d import pLSTM1D_jax\n",
        "from plstm.util import log2\n",
        "import torch\n",
        "import jax.numpy as jnp\n",
        "import jax\n",
        "from functools import partial"
      ]
    },
    {
      "cell_type": "code",
      "execution_count": null,
      "metadata": {},
      "outputs": [],
      "source": [
        "DEVICE = \"cuda\"\n",
        "B = 64\n",
        "T = 1024\n",
        "BT = 256\n",
        "DHQK = 128\n",
        "DHHV = 128\n",
        "JQ = 1\n",
        "JT = 1\n",
        "JV = 1\n",
        "JK = 1\n",
        "JO = 1\n",
        "DTYPE = torch.float32\n",
        "\n",
        "rand_factor = 0.0\n",
        "Q = 1.0 + rand_factor * torch.randn([B, T, DHQK, JQ], dtype=DTYPE, device=DEVICE) / DHQK\n",
        "K = 1.0 + rand_factor * torch.randn([B, T, DHQK, JK], dtype=DTYPE, device=DEVICE)\n",
        "V = torch.randn([B, T, DHHV, JV], dtype=DTYPE, device=DEVICE) + 0.1 * torch.arange(JV * DHHV).reshape(\n",
        "    1, 1, DHHV, JV\n",
        ").to(device=DEVICE)\n",
        "S0 = 0.1 + rand_factor * torch.randn([B, T, JT, JK, JV], dtype=DTYPE, device=DEVICE)\n",
        "T0 = torch.eye(JT)[None, None, :, :].to(device=DEVICE) * torch.ones([B, T, 1, 1], dtype=DTYPE, device=DEVICE)\n",
        "T0 = T0 + 0.01 * rand_factor * torch.randn_like(T0)\n",
        "M0 = 1.0 + rand_factor * torch.randn([B, T, JO, JQ, JT], dtype=DTYPE, device=DEVICE)\n",
        "D0 = 1.0 + rand_factor * torch.randn([B, T, JO, JQ, JK, JV], dtype=DTYPE, device=DEVICE)\n",
        "C_initial = 0.0 * torch.randn([B, DHQK, DHHV, JT], dtype=DTYPE, device=DEVICE)\n",
        "\n",
        "print(Q.shape)\n",
        "\n",
        "Q.requires_grad_(True)\n",
        "K.requires_grad_(True)\n",
        "V.requires_grad_(True)\n",
        "S0.requires_grad_(True)\n",
        "T0.requires_grad_(True)\n",
        "M0.requires_grad_(True)\n",
        "\n",
        "\n",
        "S0mag = (\n",
        "    0.01\n",
        "    # + 0.1* rand_factor * torch.randn([B, T])\n",
        "    - 0.1 * torch.arange(T)[None, :]\n",
        ")\n",
        "T0mag = (\n",
        "    -0.01 + 0.0 * 0.1 * rand_factor * 0.01 * torch.randn([B, T])\n",
        "    # + 0.01 * torch.arange(T)[None, :]\n",
        ")\n",
        "\n",
        "_ = \"\"\n",
        "# Y = pLSTM1D_fwbw(Q, K, V, S0, M0, T0, chunk_size=16)\n",
        "# Y = Y.reshape(B, T, DHHV * JQ)[0, :, 0]\n",
        "\n",
        "# Y.sum().backward()"
      ]
    },
    {
      "cell_type": "code",
      "execution_count": null,
      "metadata": {},
      "outputs": [],
      "source": [
        "%timeit pLSTM1D_fwbw(Q, K, V, S0, T0, M0, D0, levels=log2(BT))"
      ]
    },
    {
      "cell_type": "code",
      "execution_count": null,
      "metadata": {},
      "outputs": [],
      "source": [
        "Q_jnp = jnp.array(Q.detach().cpu().numpy())\n",
        "K_jnp = jnp.array(K.detach().cpu().numpy())\n",
        "V_jnp = jnp.array(V.detach().cpu().numpy())\n",
        "S0_jnp = jnp.array(S0.detach().cpu().numpy())\n",
        "T0_jnp = jnp.array(T0.detach().cpu().numpy())\n",
        "M0_jnp = jnp.array(M0.detach().cpu().numpy())\n",
        "D0_jnp = jnp.array(D0.detach().cpu().numpy())\n",
        "\n",
        "Q_jnp = jax.device_put(Q_jnp)\n",
        "K_jnp = jax.device_put(K_jnp)\n",
        "V_jnp = jax.device_put(V_jnp)\n",
        "S0_jnp = jax.device_put(S0_jnp)\n",
        "T0_jnp = jax.device_put(T0_jnp)\n",
        "M0_jnp = jax.device_put(M0_jnp)\n",
        "D0_jnp = jax.device_put(D0_jnp)"
      ]
    },
    {
      "cell_type": "code",
      "execution_count": null,
      "metadata": {},
      "outputs": [],
      "source": [
        "# pLSTM1D_jax = jax.jit(partial(pLSTM1D_jax, levels=log2(BT)))"
      ]
    },
    {
      "cell_type": "code",
      "execution_count": null,
      "metadata": {},
      "outputs": [],
      "source": [
        "pLSTM1D_jax(Q_jnp, K_jnp, V_jnp, S0_jnp, T0_jnp, M0_jnp, D0_jnp, levels=log2(BT))"
      ]
    },
    {
      "cell_type": "code",
      "execution_count": null,
      "metadata": {},
      "outputs": [],
      "source": [
        "%timeit pLSTM1D_jax(Q_jnp, K_jnp, V_jnp, S0_jnp, T0_jnp, M0_jnp, D0_jnp, levels=log2(BT))"
      ]
    },
    {
      "cell_type": "markdown",
      "metadata": {},
      "source": [
        "# pLSTM 2D"
      ]
    },
    {
      "cell_type": "code",
      "execution_count": null,
      "metadata": {},
      "outputs": [],
      "source": [
        "from plstm.nnx.plstm_2d import pLSTM2D_jax\n",
        "from plstm.nnx.plstm_1d import pLSTM1D_jax\n",
        "from plstm.util import log2\n",
        "import torch\n",
        "import jax.numpy as jnp\n",
        "import jax"
      ]
    },
    {
      "cell_type": "code",
      "execution_count": null,
      "metadata": {},
      "outputs": [],
      "source": [
        "DB, MX, MY, DHQK, DHHV, JQ, JK, JV, JT, JO = (32, 32, 32, 128, 128, 1, 1, 1, 1, 1)\n",
        "\n",
        "Q, K, V = (\n",
        "    0.1 * jnp.ones([DB, MX, MY, DHQK, JQ]),\n",
        "    0.2 * jnp.ones([DB, MX, MY, DHQK, JK]),\n",
        "    0.3 * jnp.ones([DB, MX, MY, DHHV, JV]),\n",
        ")\n",
        "\n",
        "S0r, S0d, T0rl, T0du, T0dl, T0ru, M0l, M0u, D0 = (\n",
        "    0.1 * jnp.ones([DB, MX, MY, JT, JK, JV]),\n",
        "    0.2 * jnp.ones([DB, MX, MY, JT, JK, JV]),\n",
        "    0.2 * jnp.ones([DB, MX, MY, JT, JT]),\n",
        "    0.1 * jnp.ones([DB, MX, MY, JT, JT]),\n",
        "    0.2 * jnp.ones([DB, MX, MY, JT, JT]),\n",
        "    0.3 * jnp.ones([DB, MX, MY, JT, JT]),\n",
        "    0.3 * jnp.ones([DB, MX, MY, JO, JQ, JT]),\n",
        "    0.2 * jnp.ones([DB, MX, MY, JO, JQ, JT]),\n",
        "    jnp.ones([DB, MX, MY, JO, JQ, JK, JV]),\n",
        ")\n",
        "\n",
        "\n",
        "levels = 5\n",
        "res = pLSTM2D_jax(Q, K, V, S0r, S0d, T0rl, T0du, T0dl, T0ru, M0l, M0u, D0, levels=levels)\n",
        "print(res)\n",
        "\n",
        "pLSTM2D_jax(Q, K, V, S0r, S0d, T0rl, T0du, None, T0ru, M0l, M0u, D0, levels=levels)"
      ]
    },
    {
      "cell_type": "code",
      "execution_count": null,
      "metadata": {},
      "outputs": [],
      "source": [
        "%timeit pLSTM2D_jax(Q, K, V, S0r, S0d, T0rl, T0du, None, T0dl, M0l, M0u, D0, levels=5)"
      ]
    },
    {
      "cell_type": "code",
      "execution_count": null,
      "metadata": {},
      "outputs": [],
      "source": [
        "pLSTM2D_jax = jax.jit(partial(pLSTM2D_jax, levels=5))"
      ]
    },
    {
      "cell_type": "code",
      "execution_count": null,
      "metadata": {},
      "outputs": [],
      "source": [
        "D0.shape"
      ]
    },
    {
      "cell_type": "code",
      "execution_count": null,
      "metadata": {},
      "outputs": [],
      "source": [
        "pLSTM2D_jax(Q, K, V, S0r, S0d, T0rl, T0du, None, T0dl, M0l, M0u, D0)"
      ]
    },
    {
      "cell_type": "code",
      "execution_count": null,
      "metadata": {},
      "outputs": [],
      "source": [
        "%timeit pLSTM2D_jax(Q, K, V, S0r, S0d, T0rl, T0du, None, T0dl, M0l, M0u, D0,)"
      ]
    },
    {
      "cell_type": "code",
      "execution_count": null,
      "metadata": {},
      "outputs": [],
      "source": [
        "D0.shape"
      ]
    },
    {
      "cell_type": "markdown",
      "metadata": {},
      "source": [
        "### Torch"
      ]
    },
    {
      "cell_type": "code",
      "execution_count": null,
      "metadata": {},
      "outputs": [],
      "source": [
        "import torch\n",
        "\n",
        "\n",
        "B = 32\n",
        "X = 32\n",
        "Y = 32\n",
        "DHQK = 128\n",
        "DHHV = 128\n",
        "JQ = 1\n",
        "JT = 1\n",
        "JV = 1\n",
        "JK = 1\n",
        "JO = 1\n",
        "DTYPE = torch.float32\n",
        "DEVICE = \"cuda\"\n",
        "\n",
        "levels = 5\n",
        "\n",
        "phi0 = 0.5\n",
        "phi1 = 1 - phi0\n",
        "\n",
        "Q = 1.0 + 0.0 * torch.randn([B, X, Y, DHQK, JQ], dtype=DTYPE, device=DEVICE) / DHQK\n",
        "K = 1.0 + 0.0 * torch.randn([B, X, Y, DHQK, JK], dtype=DTYPE, device=DEVICE)\n",
        "V = 1.0 + 0.0 * torch.randn([B, X, Y, DHHV, JV], dtype=DTYPE, device=DEVICE)\n",
        "S0_r = phi0 * (1.0 + 0.0 * torch.randn([B, X, Y, JT, JK, JV], dtype=DTYPE, device=DEVICE))\n",
        "S0_d = phi1 * (1.0 + 0.0 * torch.randn([B, X, Y, JT, JK, JV], dtype=DTYPE, device=DEVICE))\n",
        "T00 = torch.eye(JT, dtype=DTYPE, device=DEVICE)[None, None, None, :, :] * torch.ones(\n",
        "    [B, X, Y, 1, 1], dtype=DTYPE, device=DEVICE\n",
        ")\n",
        "T0_rl = phi0 * T00 + 0.0 * torch.randn_like(T00, dtype=DTYPE, device=DEVICE)\n",
        "T0_du = phi1 * T00 + 0.0 * torch.randn_like(T00, dtype=DTYPE, device=DEVICE)\n",
        "T0_dl = phi1 * T00 + 0.0 * torch.randn_like(T00, dtype=DTYPE, device=DEVICE)\n",
        "T0_ru = phi0 * T00 + 0.0 * torch.randn_like(T00, dtype=DTYPE, device=DEVICE)\n",
        "M0_l = 1.0 + 0.0 * torch.randn([B, X, Y, JO, JQ, JT], dtype=DTYPE, device=DEVICE)\n",
        "M0_u = 1.0 + 0.0 * torch.randn([B, X, Y, JO, JQ, JT], dtype=DTYPE, device=DEVICE)\n",
        "D0 = 1 + 0.0 * torch.randn([B, X, Y, JO, JQ, JK, JV], dtype=DTYPE, device=DEVICE)"
      ]
    },
    {
      "cell_type": "code",
      "execution_count": null,
      "metadata": {},
      "outputs": [],
      "source": [
        "%timeit pLSTM2D_fwbw(Q, K, V, S0_r, S0_d, T0_rl, T0_du, T0_dl, T0_ru, M0_l, M0_u, D0, None, levels=levels)"
      ]
    },
    {
      "cell_type": "code",
      "execution_count": null,
      "metadata": {},
      "outputs": [],
      "source": []
    }
  ],
  "metadata": {
    "kernelspec": {
      "display_name": "plstm_pt251jax0434cu124py311",
      "language": "python",
      "name": "python3"
    },
    "language_info": {
      "codemirror_mode": {
        "name": "ipython",
        "version": 3
      },
      "file_extension": ".py",
      "mimetype": "text/x-python",
      "name": "python",
      "nbconvert_exporter": "python",
      "pygments_lexer": "ipython3",
      "version": "3.11.11"
    }
  },
  "nbformat": 4,
  "nbformat_minor": 2
}
