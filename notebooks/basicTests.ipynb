{
  "cells": [
    {
      "cell_type": "code",
      "execution_count": 13,
      "metadata": {},
      "outputs": [],
      "source": [
        "from typing import Callable\n",
        "import jax\n",
        "import jax.numpy as jnp\n",
        "import sys\n",
        "\n",
        "sys.path.append(\"..\")\n",
        "\n",
        "from util import identity"
      ]
    },
    {
      "cell_type": "code",
      "execution_count": 12,
      "metadata": {},
      "outputs": [],
      "source": [
        "def transition_matrices(\n",
        "    T0,\n",
        "    top_level: int = 4,\n",
        "    einsum: Callable[[str, ...], jax.Array] = jnp.einsum,\n",
        "    null_elem: Callable[[jax.Array], jax.Array] = identity,\n",
        "):\n",
        "    \"\"\"\n",
        "    >>> torch.allclose(\n",
        "    ...     transition_matrices(0.5*torch.ones([8])[None, :, None, None], top_level=3)[0],\n",
        "    ...     torch.tensor([[[[0.5000]],[[0.5000]],[[0.5000]],[[0.5000]],[[0.5000]],[[0.5000]],[[0.5000]],[[0.5000]]]]))\n",
        "    True\n",
        "    >>> torch.allclose(\n",
        "    ...     transition_matrices(1.+torch.arange(4.)[None, :, None, None])[1],\n",
        "    ...     torch.tensor([[[[2.]], [[12.]]]]))\n",
        "    True\n",
        "    >>> torch.allclose(\n",
        "    ...     transition_matrices(0.5*torch.ones([8])[None, :, None, None])[1],\n",
        "    ...     torch.tensor([[[[0.2500]],[[0.2500]],[[0.2500]],[[0.2500]]]]))\n",
        "    True\n",
        "    >>> torch.allclose(\n",
        "    ...     transition_matrices(0.5*torch.ones([8])[None, :, None, None])[2],\n",
        "    ...     torch.tensor([[[[0.0625]], [[0.0625]]]]))\n",
        "    True\n",
        "    >>> torch.allclose(\n",
        "    ...     transition_matrices(0.5*torch.ones([8])[None, :, None, None])[3],\n",
        "    ...     torch.tensor([[[[0.00390625]]]]))\n",
        "    True\n",
        "    >>> transition_matrices(0.5*torch.ones([1, 4, 1, 1]))\n",
        "    [tensor([[[[0.5000]],\n",
        "    <BLANKLINE>\n",
        "             [[0.5000]],\n",
        "    <BLANKLINE>\n",
        "             [[0.5000]],\n",
        "    <BLANKLINE>\n",
        "             [[0.5000]]]]), tensor([[[[0.2500]],\n",
        "    <BLANKLINE>\n",
        "             [[0.2500]]]]), tensor([[[[0.0625]]]])]\n",
        "    \"\"\"\n",
        "    T = [T0]\n",
        "    for i in range(top_level):\n",
        "        T.append(\n",
        "            einsum(\"nxij,nxjk->nxik\", T[i][:, 1::2], T[i][:, 0:-1:2]),\n",
        "        )\n",
        "    return T"
      ]
    },
    {
      "cell_type": "code",
      "execution_count": null,
      "metadata": {},
      "outputs": [],
      "source": []
    }
  ],
  "metadata": {
    "kernelspec": {
      "display_name": "jax0432_cpu",
      "language": "python",
      "name": "python3"
    },
    "language_info": {
      "codemirror_mode": {
        "name": "ipython",
        "version": 3
      },
      "file_extension": ".py",
      "mimetype": "text/x-python",
      "name": "python",
      "nbconvert_exporter": "python",
      "pygments_lexer": "ipython3",
      "version": "3.11.10"
    }
  },
  "nbformat": 4,
  "nbformat_minor": 2
}
