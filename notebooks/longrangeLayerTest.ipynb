{
  "cells": [
    {
      "cell_type": "code",
      "execution_count": null,
      "metadata": {
        "notebookRunGroups": {
          "groupValue": "2"
        }
      },
      "outputs": [],
      "source": [
        "%load_ext autoreload\n",
        "%autoreload 2\n",
        "import torch\n",
        "import sys\n",
        "\n",
        "sys.path.append(\"..\")\n",
        "from plstm.longrange_transition_layer import (\n",
        "    LongRangeTransitionLayer,\n",
        "    LongRangeTransitionLayerConfig,\n",
        ")"
      ]
    },
    {
      "cell_type": "code",
      "execution_count": null,
      "metadata": {},
      "outputs": [],
      "source": [
        "D = 8\n",
        "H = 4\n",
        "B = 3\n",
        "\n",
        "lrt = LongRangeTransitionLayer(\n",
        "    LongRangeTransitionLayerConfig(\n",
        "        input_dim=D,\n",
        "        transition_dim=D,\n",
        "        num_heads=H,\n",
        "        normalization_mode=\"eigenvalue_restriction\",\n",
        "        inproj_weight_init=\"normal\",\n",
        "        outproj_weight_init=\"normal\",\n",
        "    )\n",
        ")"
      ]
    },
    {
      "cell_type": "code",
      "execution_count": null,
      "metadata": {},
      "outputs": [],
      "source": [
        "x = 0.1 * torch.randn([B, B, H, D])\n",
        "y = lrt(x)"
      ]
    },
    {
      "cell_type": "code",
      "execution_count": null,
      "metadata": {},
      "outputs": [],
      "source": [
        "y.shape"
      ]
    },
    {
      "cell_type": "code",
      "execution_count": null,
      "metadata": {},
      "outputs": [],
      "source": [
        "svd = torch.linalg.svd(y[0, 0, 0])"
      ]
    },
    {
      "cell_type": "code",
      "execution_count": null,
      "metadata": {},
      "outputs": [],
      "source": [
        "y[0, 0, 0].round(decimals=2)"
      ]
    },
    {
      "cell_type": "code",
      "execution_count": null,
      "metadata": {},
      "outputs": [],
      "source": [
        "(\n",
        "    torch.linalg.eigvals(y[0, 0, 0]).abs().max(),\n",
        "    torch.linalg.eigvals(y[0, 0, 0]).abs().min(),\n",
        ")"
      ]
    },
    {
      "cell_type": "code",
      "execution_count": null,
      "metadata": {},
      "outputs": [],
      "source": [
        "from plstm.source_mark_layer import (\n",
        "    SourceLayer,\n",
        "    SourceLayerConfig,\n",
        "    MarkLayer,\n",
        "    MarkLayerConfig,\n",
        "    DirectLayer,\n",
        "    DirectLayerConfig,\n",
        ")"
      ]
    },
    {
      "cell_type": "code",
      "execution_count": null,
      "metadata": {},
      "outputs": [],
      "source": [
        "s = SourceLayer(\n",
        "    SourceLayerConfig(\n",
        "        JK=1,\n",
        "        JV=1,\n",
        "        JT=1,\n",
        "        input_dim=D,\n",
        "        num_heads=H,\n",
        "    )\n",
        ")"
      ]
    },
    {
      "cell_type": "code",
      "execution_count": null,
      "metadata": {},
      "outputs": [],
      "source": [
        "s(x).shape"
      ]
    },
    {
      "cell_type": "code",
      "execution_count": null,
      "metadata": {},
      "outputs": [],
      "source": [
        "m = MarkLayer(\n",
        "    MarkLayerConfig(\n",
        "        JO=1,\n",
        "        JQ=1,\n",
        "        JT=1,\n",
        "        input_dim=D,\n",
        "        num_heads=H,\n",
        "    )\n",
        ")"
      ]
    },
    {
      "cell_type": "code",
      "execution_count": null,
      "metadata": {},
      "outputs": [],
      "source": [
        "m(x).shape"
      ]
    },
    {
      "cell_type": "code",
      "execution_count": null,
      "metadata": {},
      "outputs": [],
      "source": [
        "d = DirectLayer(\n",
        "    DirectLayerConfig(\n",
        "        JO=2,\n",
        "        JQ=1,\n",
        "        JK=1,\n",
        "        JV=2,\n",
        "        input_dim=D,\n",
        "        num_heads=H,\n",
        "    )\n",
        ")"
      ]
    },
    {
      "cell_type": "code",
      "execution_count": null,
      "metadata": {},
      "outputs": [],
      "source": [
        "d(x)[0]"
      ]
    },
    {
      "cell_type": "markdown",
      "metadata": {},
      "source": [
        "# Test orthogonalization strategies"
      ]
    },
    {
      "cell_type": "markdown",
      "metadata": {},
      "source": [
        "### Exponentiation"
      ]
    },
    {
      "cell_type": "code",
      "execution_count": null,
      "metadata": {
        "notebookRunGroups": {
          "groupValue": "2"
        }
      },
      "outputs": [],
      "source": [
        "sys.path.append(\"..\")\n",
        "from plstm.longrange_transition_layer import matrix_orthogonalize_exponential\n",
        "\n",
        "B, X = 1, 16\n",
        "mat = torch.randn([B, X, X])  # torch.eye(2)[None, :, :] # torch.ones(1, 2, 2).tril()\n",
        "\n",
        "mat.requires_grad_(True)\n",
        "\n",
        "mat2 = mat.detach().clone()\n",
        "mat2.requires_grad_(True)\n",
        "mat1 = mat.detach().clone()\n",
        "mat1.requires_grad_(True)\n",
        "\n",
        "r1 = matrix_orthogonalize_exponential(mat1)\n",
        "# r2 = matrix_orthogonalize_exponential(mat2, use_autograd=True)\n",
        "\n",
        "print(r1)"
      ]
    },
    {
      "cell_type": "code",
      "execution_count": null,
      "metadata": {
        "notebookRunGroups": {
          "groupValue": "2"
        }
      },
      "outputs": [],
      "source": [
        "torch.linalg.eigvals(matrix_orthogonalize_exponential(mat)).abs()"
      ]
    },
    {
      "cell_type": "code",
      "execution_count": null,
      "metadata": {},
      "outputs": [],
      "source": [
        "# matrix_orthogonalize_exponential(mat), matrix_orthogonalize_exponential(mat, use_autograd=True)"
      ]
    },
    {
      "cell_type": "code",
      "execution_count": null,
      "metadata": {},
      "outputs": [],
      "source": [
        "# m = torch.randn_like(r1)\n",
        "# m1 = m.clone().detach()\n",
        "# m2 = m.clone().detach()\n",
        "\n",
        "# l1 = (r1 * m1).sum().backward()\n",
        "# l2 = (r2 * m2).sum().backward()\n",
        "\n",
        "# mat1.grad, mat2.grad"
      ]
    },
    {
      "cell_type": "code",
      "execution_count": null,
      "metadata": {},
      "outputs": [],
      "source": []
    }
  ],
  "metadata": {
    "kernelspec": {
      "display_name": "xlstmpt220cu121",
      "language": "python",
      "name": "python3"
    },
    "language_info": {
      "codemirror_mode": {
        "name": "ipython",
        "version": 3
      },
      "file_extension": ".py",
      "mimetype": "text/x-python",
      "name": "python",
      "nbconvert_exporter": "python",
      "pygments_lexer": "ipython3",
      "version": "3.11.9"
    }
  },
  "nbformat": 4,
  "nbformat_minor": 2
}
