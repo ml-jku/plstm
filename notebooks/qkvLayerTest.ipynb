{
  "cells": [
    {
      "cell_type": "code",
      "execution_count": null,
      "metadata": {},
      "outputs": [],
      "source": [
        "%load_ext autoreload\n",
        "%autoreload 2\n",
        "import torch\n",
        "import sys\n",
        "\n",
        "sys.path.append(\"..\")\n",
        "from pLSTM.query_key_value import (\n",
        "    QueryLayer,\n",
        "    KeyLayer,\n",
        "    ValueLayer,\n",
        "    QueryLayerConfig,\n",
        "    KeyLayerConfig,\n",
        "    ValueLayerConfig,\n",
        ")"
      ]
    },
    {
      "cell_type": "code",
      "execution_count": null,
      "metadata": {},
      "outputs": [],
      "source": [
        "D = 8\n",
        "H = 4\n",
        "B = 3\n",
        "JQ = 2\n",
        "\n",
        "x = torch.zeros([B, B, H, D])\n",
        "q = QueryLayer(QueryLayerConfig(DK=D // JQ, num_heads=H, JQ=JQ, weight_init=\"eye\", input_dim=D))\n",
        "\n",
        "q(x).shape"
      ]
    },
    {
      "cell_type": "code",
      "execution_count": null,
      "metadata": {},
      "outputs": [],
      "source": [
        "D = 128\n",
        "H = 4\n",
        "B = 3\n",
        "JK = 2\n",
        "\n",
        "x = torch.zeros([B, B, H, D])\n",
        "q = KeyLayer(KeyLayerConfig(DK=D // JK, num_heads=H, JK=JK, weight_init=\"eye\", input_dim=D))\n",
        "\n",
        "q(x).shape"
      ]
    },
    {
      "cell_type": "code",
      "execution_count": null,
      "metadata": {},
      "outputs": [],
      "source": [
        "D = 256\n",
        "H = 4\n",
        "B = 3\n",
        "JV = 2\n",
        "\n",
        "x = torch.ones([B, B, H, D])\n",
        "v = ValueLayer(ValueLayerConfig(DV=D // JV, num_heads=H, JV=JV, weight_init=\"eye\", input_dim=D))\n",
        "\n",
        "v(x).shape\n",
        "torch.max(v(x))"
      ]
    },
    {
      "cell_type": "code",
      "execution_count": null,
      "metadata": {},
      "outputs": [],
      "source": []
    }
  ],
  "metadata": {
    "kernelspec": {
      "display_name": "xlstmpt220cu121",
      "language": "python",
      "name": "python3"
    },
    "language_info": {
      "codemirror_mode": {
        "name": "ipython",
        "version": 3
      },
      "file_extension": ".py",
      "mimetype": "text/x-python",
      "name": "python",
      "nbconvert_exporter": "python",
      "pygments_lexer": "ipython3",
      "version": "3.11.9"
    }
  },
  "nbformat": 4,
  "nbformat_minor": 2
}
