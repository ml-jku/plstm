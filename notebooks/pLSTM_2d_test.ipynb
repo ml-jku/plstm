{
  "cells": [
    {
      "cell_type": "code",
      "execution_count": null,
      "metadata": {},
      "outputs": [],
      "source": [
        "%load_ext autoreload\n",
        "%autoreload 2\n",
        "import torch\n",
        "\n",
        "from plstm.torch.plstm_2d import (\n",
        "    transition_matrices_2d,\n",
        "    source_matrices_2d,\n",
        "    mark_matrices_2d,\n",
        "    gating_matrices_2d,\n",
        "    pLSTM2D_fwbw,\n",
        ")\n",
        "import matplotlib.pyplot as plt"
      ]
    },
    {
      "cell_type": "code",
      "execution_count": null,
      "metadata": {},
      "outputs": [],
      "source": [
        "# X, Y = 25, 24\n",
        "X, Y = 32, 32"
      ]
    },
    {
      "cell_type": "code",
      "execution_count": null,
      "metadata": {},
      "outputs": [],
      "source": [
        "alpha = -0.00\n",
        "phi1 = 0.8\n",
        "gammaX1 = phi1\n",
        "gammaY1 = 1 - phi1\n",
        "phi2 = 0.2\n",
        "phi3 = 0.8\n",
        "gammaX2 = phi2\n",
        "gammaY2 = 1 - phi2\n",
        "gammaX3 = phi3\n",
        "gammaY3 = 1 - phi3\n",
        "\n",
        "\n",
        "S0_r = torch.cat(\n",
        "    [\n",
        "        gammaX1 * torch.ones([1, X // 2, Y, 1, 1, 1]),\n",
        "        torch.cat(\n",
        "            [\n",
        "                gammaX2 * torch.ones([1, X - X // 2, Y // 2, 1, 1, 1]),\n",
        "                gammaX3 * torch.ones([1, X - X // 2, Y - Y // 2, 1, 1, 1]),\n",
        "            ],\n",
        "            dim=2,\n",
        "        ),\n",
        "    ],\n",
        "    dim=1,\n",
        ")  # phi*sqrt(phi*(1-phi))*torch.ones([1, X, Y, 1, 1, 1]) + alpha,\n",
        "S0_d = torch.cat(\n",
        "    [\n",
        "        gammaY1 * torch.ones([1, X // 2, Y, 1, 1, 1]),\n",
        "        torch.cat(\n",
        "            [\n",
        "                gammaY2 * torch.ones([1, X - X // 2, Y // 2, 1, 1, 1]),\n",
        "                gammaY3 * torch.ones([1, X - X // 2, Y - Y // 2, 1, 1, 1]),\n",
        "            ],\n",
        "            dim=2,\n",
        "        ),\n",
        "    ],\n",
        "    dim=1,\n",
        ")\n",
        "\n",
        "M0_l = torch.ones([1, X, Y, 1, 1, 1]) + alpha\n",
        "M0_u = torch.ones([1, X, Y, 1, 1, 1]) + alpha\n",
        "\n",
        "T0_rl = torch.cat(\n",
        "    [\n",
        "        gammaX1 * torch.ones([1, X // 2, Y, 1, 1]),\n",
        "        torch.cat(\n",
        "            [\n",
        "                gammaX2 * torch.ones([1, X - X // 2, Y // 2, 1, 1]),\n",
        "                gammaX3 * torch.ones([1, X - X // 2, Y - Y // 2, 1, 1]),\n",
        "            ],\n",
        "            dim=2,\n",
        "        ),\n",
        "    ],\n",
        "    dim=1,\n",
        ")\n",
        "T0_du = torch.cat(\n",
        "    [\n",
        "        gammaY1 * torch.ones([1, X // 2, Y, 1, 1]),\n",
        "        torch.cat(\n",
        "            [\n",
        "                gammaY2 * torch.ones([1, X - X // 2, Y // 2, 1, 1]),\n",
        "                gammaY3 * torch.ones([1, X - X // 2, Y - Y // 2, 1, 1]),\n",
        "            ],\n",
        "            dim=2,\n",
        "        ),\n",
        "    ],\n",
        "    dim=1,\n",
        ")\n",
        "T0_dl = torch.cat(\n",
        "    [\n",
        "        gammaY1 * torch.ones([1, X // 2, Y, 1, 1]),\n",
        "        torch.cat(\n",
        "            [\n",
        "                gammaY2 * torch.ones([1, X - X // 2, Y // 2, 1, 1]),\n",
        "                gammaY3 * torch.ones([1, X - X // 2, Y - Y // 2, 1, 1]),\n",
        "            ],\n",
        "            dim=2,\n",
        "        ),\n",
        "    ],\n",
        "    dim=1,\n",
        ")\n",
        "T0_ru = torch.cat(\n",
        "    [\n",
        "        gammaX1 * torch.ones([1, X // 2, Y, 1, 1]),\n",
        "        torch.cat(\n",
        "            [\n",
        "                gammaX2 * torch.ones([1, X - X // 2, Y // 2, 1, 1]),\n",
        "                gammaX3 * torch.ones([1, X - X // 2, Y - Y // 2, 1, 1]),\n",
        "            ],\n",
        "            dim=2,\n",
        "        ),\n",
        "    ],\n",
        "    dim=1,\n",
        ")\n",
        "\n",
        "D0 = torch.zeros([1, X, Y, 1, 1, 1, 1])"
      ]
    },
    {
      "cell_type": "code",
      "execution_count": null,
      "metadata": {},
      "outputs": [],
      "source": [
        "levels = 6\n",
        "T = transition_matrices_2d(T0_rl, T0_du, T0_dl, T0_ru, levels=levels)\n",
        "[t[-1].shape for t in T]"
      ]
    },
    {
      "cell_type": "code",
      "execution_count": null,
      "metadata": {},
      "outputs": [],
      "source": [
        "T_rl, T_du, T_dl, T_ru = transition_matrices_2d(T0_rl, T0_du, T0_dl, T0_ru, levels=levels)\n",
        "S_r, S_d = source_matrices_2d(S0_r, S0_d, T_rl, T_du, T_dl, T_ru, levels=levels)\n",
        "M_l, M_u = mark_matrices_2d(M0_l, M0_u, T_rl, T_du, T_dl, T_ru, levels=levels)\n",
        "G = gating_matrices_2d(S_r, S_d, M_l, M_u, T_rl, T_du, T_dl, T_ru, levels=levels)"
      ]
    },
    {
      "cell_type": "markdown",
      "metadata": {},
      "source": [
        "### Visual Inspection"
      ]
    },
    {
      "cell_type": "code",
      "execution_count": null,
      "metadata": {},
      "outputs": [],
      "source": [
        "plt.imshow((G.transpose(3, 5)[0, 0, :, :, 0, 5, 0, 0, 0, 0] + 1e-5).transpose(0, 1))\n",
        "plt.colorbar()"
      ]
    },
    {
      "cell_type": "code",
      "execution_count": null,
      "metadata": {},
      "outputs": [],
      "source": [
        "plt.imshow((G.transpose(3, 5)[0, 0, :, :, 0, 0, 7, 0, 0, 0] + 1e-5).transpose(0, 1))\n",
        "plt.colorbar()"
      ]
    },
    {
      "cell_type": "code",
      "execution_count": null,
      "metadata": {},
      "outputs": [],
      "source": [
        "plt.imshow((G.transpose(3, 5)[0, 0, :, :, 0, 7, 7, 0, 0, 0] + 1e-5).transpose(0, 1))\n",
        "plt.colorbar()"
      ]
    },
    {
      "cell_type": "code",
      "execution_count": null,
      "metadata": {},
      "outputs": [],
      "source": [
        "plt.imshow((G.transpose(3, 5)[0, 0, :, :, 0, 0, 0, 0, 0, 0] + 1e-5).transpose(0, 1))\n",
        "plt.colorbar()"
      ]
    },
    {
      "cell_type": "markdown",
      "metadata": {},
      "source": [
        "### Exemplary Analysis\n",
        "\n",
        "$ Sr[0,0]*Tld[1,0]*Tud[1,1]*Du[1,2] + Sd[0,0]*(Tud[0,1]*Tur[0,2]*Dl[1,2] + Tur[0,1]*Tld[1,1]*Du[1,2])  $\n",
        "\n",
        "$ Sr * Tud + Sd * Tud * (X-Tud) + Sd * (X-Tud) "
      ]
    },
    {
      "cell_type": "code",
      "execution_count": null,
      "metadata": {},
      "outputs": [],
      "source": []
    },
    {
      "cell_type": "markdown",
      "metadata": {},
      "source": [
        "### Test stmg gradient"
      ]
    },
    {
      "cell_type": "code",
      "execution_count": null,
      "metadata": {},
      "outputs": [],
      "source": [
        "from plstm.torch.plstm_2d import stmg_matrices"
      ]
    },
    {
      "cell_type": "code",
      "execution_count": null,
      "metadata": {},
      "outputs": [],
      "source": [
        "B = 1\n",
        "X = 8\n",
        "Y = 8\n",
        "NX = 2\n",
        "NY = 2\n",
        "BP = 4\n",
        "DHQK = 1\n",
        "DHHV = 1\n",
        "JQ = 1\n",
        "JT = 1\n",
        "JV = 1\n",
        "JK = 1\n",
        "JO = 1\n",
        "levels = 2\n",
        "\n",
        "phi0 = 0.6\n",
        "S0_r = phi0 * torch.ones([B, X, Y, JT, JK, JV])\n",
        "S0_d = phi1 * torch.ones([B, X, Y, JT, JK, JV])\n",
        "\n",
        "M0_l = torch.ones([B, X, Y, JO, JQ, JT])\n",
        "M0_u = torch.ones([B, X, Y, JO, JQ, JT])\n",
        "D0 = torch.ones([B, X, Y, JO, JQ, JK, JV])\n",
        "\n",
        "T00 = torch.eye(JT)[None, None, None, :, :] * torch.ones([B, X, Y, 1, 1])\n",
        "T0_rl = phi0 * T00 + 0.01 * torch.randn_like(T00)\n",
        "T0_du = phi1 * T00 + 0.01 * torch.randn_like(T00)\n",
        "T0_dl = phi1 * T00 + 0.01 * torch.randn_like(T00)\n",
        "T0_ru = phi0 * T00 + 0.01 * torch.randn_like(T00)\n",
        "\n",
        "for a in [\n",
        "    S0_r,\n",
        "    S0_d,\n",
        "    T0_rl,\n",
        "    T0_du,\n",
        "    T0_dl,\n",
        "    T0_ru,\n",
        "    M0_l,\n",
        "    M0_u,\n",
        "]:\n",
        "    a.requires_grad_(True)"
      ]
    },
    {
      "cell_type": "code",
      "execution_count": null,
      "metadata": {},
      "outputs": [],
      "source": [
        "D = D0.reshape(-1, NX, BP, 1, NY, BP, 1, JO, JQ, JK, JV)\n",
        "S_r, S_d, T_rl, T_du, T_dl, T_ru, M_l, M_u, G_nodirect = stmg_matrices(\n",
        "    S0_r,\n",
        "    S0_d,\n",
        "    T0_rl,\n",
        "    T0_du,\n",
        "    T0_dl,\n",
        "    T0_ru,\n",
        "    M0_l,\n",
        "    M0_u,\n",
        "    levels=levels,\n",
        ")\n",
        "G = G_nodirect + (\n",
        "    D\n",
        "    * torch.eye(BP)[None, None, :, :, None, None, None, None, None, None, None]\n",
        "    * torch.eye(BP)[None, None, None, None, None, :, :, None, None, None, None]\n",
        ")"
      ]
    },
    {
      "cell_type": "code",
      "execution_count": null,
      "metadata": {},
      "outputs": [],
      "source": [
        "(\n",
        "    G.mean() + S_r.mean() + T_rl.mean() + T_dl.mean() + T_ru.mean() + T_du.mean() + S_d.mean() + M_l.mean() + M_u.mean()\n",
        ").backward()\n",
        "\n",
        "torch.any(torch.isnan(S0_r.grad))"
      ]
    },
    {
      "cell_type": "markdown",
      "metadata": {},
      "source": [
        "# pLSTM2D chunkwise"
      ]
    },
    {
      "cell_type": "code",
      "execution_count": null,
      "metadata": {},
      "outputs": [],
      "source": [
        "from plstm.torch.util import log2\n",
        "from plstm.torch.plstm_2d import pLSTM2D_torch\n",
        "\n",
        "B = 1\n",
        "X = 14\n",
        "Y = 14\n",
        "BT = 4\n",
        "DHQK = 1\n",
        "DHHV = 1\n",
        "JQ = 1\n",
        "JT = 1\n",
        "JV = 1\n",
        "JK = 1\n",
        "JO = 1\n",
        "\n",
        "phi0 = 0.7\n",
        "phi1 = 1 - phi0\n",
        "\n",
        "Q = torch.ones([B, X, Y, DHQK, JQ]) / DHQK\n",
        "K = torch.ones([B, X, Y, DHQK, JK])\n",
        "V = torch.zeros([B, X, Y, DHHV, JV])\n",
        "V[0, 0, 0, :, :] = 1.0\n",
        "S0_r = phi0 * torch.ones([B, X, Y, JT, JK, JV])\n",
        "S0_d = phi1 * torch.ones([B, X, Y, JT, JK, JV])\n",
        "\n",
        "M0_l = torch.ones([B, X, Y, JO, JQ, JT])\n",
        "M0_u = torch.ones([B, X, Y, JO, JQ, JT])\n",
        "D0 = torch.ones([B, X, Y, JO, JQ, JK, JV])\n",
        "\n",
        "T00 = torch.eye(JT)[None, None, None, :, :] * torch.ones([B, X, Y, 1, 1])\n",
        "T0_rl = phi0 * T00 + 0.01 * torch.randn_like(T00)\n",
        "T0_du = phi1 * T00 + 0.01 * torch.randn_like(T00)\n",
        "T0_dl = phi1 * T00 + 0.01 * torch.randn_like(T00)\n",
        "T0_ru = phi0 * T00 + 0.01 * torch.randn_like(T00)\n",
        "Q.requires_grad_(True)\n",
        "K.requires_grad_(True)\n",
        "V.requires_grad_(True)\n",
        "\n",
        "for X in [S0_r, S0_d, M0_l, M0_u, T0_rl, T0_du, T0_dl, T0_ru, D0]:\n",
        "    X.requires_grad_(True)\n",
        "\n",
        "\n",
        "H = pLSTM2D_fwbw(Q, K, V, S0_r, S0_d, T0_rl, T0_du, T0_dl, T0_ru, M0_l, M0_u, D0, levels=log2(BT))"
      ]
    },
    {
      "cell_type": "code",
      "execution_count": null,
      "metadata": {},
      "outputs": [],
      "source": [
        "H.shape"
      ]
    },
    {
      "cell_type": "code",
      "execution_count": null,
      "metadata": {},
      "outputs": [],
      "source": [
        "plt.imshow(H[0, :, :, 0].transpose(0, 1).detach().numpy())"
      ]
    },
    {
      "cell_type": "code",
      "execution_count": null,
      "metadata": {},
      "outputs": [],
      "source": [
        "S0_r.requires_grad"
      ]
    },
    {
      "cell_type": "code",
      "execution_count": null,
      "metadata": {},
      "outputs": [],
      "source": [
        "H.sum().backward()"
      ]
    },
    {
      "cell_type": "code",
      "execution_count": null,
      "metadata": {},
      "outputs": [],
      "source": [
        "G.numel()"
      ]
    },
    {
      "cell_type": "markdown",
      "metadata": {},
      "source": [
        "## Test gradient"
      ]
    },
    {
      "cell_type": "code",
      "execution_count": null,
      "metadata": {},
      "outputs": [],
      "source": [
        "from plstm.torch.plstm_2d import pLSTM2D_fwbw\n",
        "from plstm.torch.test_utils import check_forward, check_backward"
      ]
    },
    {
      "cell_type": "code",
      "execution_count": null,
      "metadata": {},
      "outputs": [],
      "source": [
        "# B = 1\n",
        "# X = 8\n",
        "# Y = 8\n",
        "# BT = 4\n",
        "# DHQK = 1\n",
        "# DHHV = 2\n",
        "# JQ = 1\n",
        "# JT = 1\n",
        "# JV = 1\n",
        "# JK = 1\n",
        "# JO = 1\n",
        "\n",
        "B = 1\n",
        "X = 16\n",
        "Y = 16\n",
        "BT = 4\n",
        "DHQK = 1\n",
        "DHHV = 2\n",
        "JQ = 2\n",
        "JT = 7\n",
        "JV = 3\n",
        "JK = 5\n",
        "JO = 4\n",
        "\n",
        "\n",
        "phi0 = 0.6\n",
        "phi1 = 1 - phi0\n",
        "\n",
        "rand_factor = 0.1\n",
        "\n",
        "Q = 1.0 + rand_factor * torch.randn([B, X, Y, DHQK, JQ]) / DHQK\n",
        "K = 1.0 + rand_factor * torch.randn([B, X, Y, DHQK, JK])\n",
        "V = rand_factor * torch.randn([B, X, Y, DHHV, JV]) + torch.arange(JV * DHHV).reshape(1, 1, 1, DHHV, JV)\n",
        "S0_r = phi0 * (1.0 + rand_factor * torch.randn([B, X, Y, JT, JK, JV]))\n",
        "S0_d = phi1 * (1.0 + rand_factor * torch.randn([B, X, Y, JT, JK, JV]))\n",
        "T00 = torch.eye(JT)[None, None, None, :, :] * torch.ones([B, X, Y, 1, 1])\n",
        "T0_rl = phi0 * T00 + rand_factor * torch.randn_like(T00)\n",
        "T0_du = phi1 * T00 + rand_factor * torch.randn_like(T00)\n",
        "# T0_rl = T0_du\n",
        "T0_dl = phi1 * T00 + rand_factor * torch.randn_like(T00)\n",
        "T0_ru = phi0 * T00 + rand_factor * torch.randn_like(T00)\n",
        "M0_l = 1.0 + rand_factor * torch.randn([B, X, Y, JO, JQ, JT])\n",
        "M0_u = 1.0 + rand_factor * torch.randn([B, X, Y, JO, JQ, JT])\n",
        "D0 = 1 + rand_factor * torch.randn([B, X, Y, JO, JQ, JK, JV])\n",
        "Sm = 0.1 - 0.01 * torch.arange(B * X * Y).reshape([B, X, Y]) + 0.2 * torch.randn([B, X, Y])"
      ]
    },
    {
      "cell_type": "code",
      "execution_count": null,
      "metadata": {},
      "outputs": [],
      "source": [
        "def normalize(x, dim=0):\n",
        "    y = x - torch.mean(x, dim=dim, keepdim=True)\n",
        "    return y / torch.sqrt(torch.mean(y**2, dim=dim, keepdim=True))"
      ]
    },
    {
      "cell_type": "code",
      "execution_count": null,
      "metadata": {},
      "outputs": [],
      "source": [
        "check_forward(\n",
        "    lambda q, k, v, s0r, s0d, t0rl, t0du, t0dl, t0ru, m0l, m0u, d0, sm: normalize(\n",
        "        pLSTM2D_torch(\n",
        "            q,\n",
        "            k,\n",
        "            v,\n",
        "            s0r,\n",
        "            s0d,\n",
        "            t0rl,\n",
        "            t0du,\n",
        "            t0dl,\n",
        "            t0ru,\n",
        "            m0l,\n",
        "            m0u,\n",
        "            d0,\n",
        "            sm,\n",
        "            levels=log2(BT) // 2,\n",
        "        ),\n",
        "        dim=3,\n",
        "    ).flatten(3, 4),\n",
        "    lambda q, k, v, s0r, s0d, t0rl, t0du, t0dl, t0ru, m0l, m0u, d0, sm: normalize(\n",
        "        pLSTM2D_torch(q, k, v, s0r, s0d, t0rl, t0du, t0dl, t0ru, m0l, m0u, d0, sm, levels=log2(BT)),\n",
        "        dim=3,\n",
        "    ).flatten(3, 4),\n",
        "    (Q, K, V, S0_r, S0_d, T0_rl, T0_du, T0_dl, T0_ru, M0_l, M0_u, D0, Sm),\n",
        "    verbose=True,\n",
        ")"
      ]
    },
    {
      "cell_type": "code",
      "execution_count": null,
      "metadata": {},
      "outputs": [],
      "source": [
        "recompute_C, recompute_G = False, True\n",
        "\n",
        "check_backward(\n",
        "    lambda q, k, v, s0r, s0d, t0rl, t0du, t0dl, t0ru, m0l, m0u, d0, sm: normalize(\n",
        "        pLSTM2D_torch(\n",
        "            q,\n",
        "            k,\n",
        "            v,\n",
        "            s0r,\n",
        "            s0d,\n",
        "            t0rl,\n",
        "            t0du,\n",
        "            t0dl,\n",
        "            t0ru,\n",
        "            m0l,\n",
        "            m0u,\n",
        "            d0,\n",
        "            sm,\n",
        "            levels=log2(BT) * 2,\n",
        "        ),\n",
        "        dim=3,\n",
        "    ).flatten(3, 4),\n",
        "    lambda q, k, v, s0r, s0d, t0rl, t0du, t0dl, t0ru, m0l, m0u, d0, sm: normalize(\n",
        "        pLSTM2D_fwbw(\n",
        "            q,\n",
        "            k,\n",
        "            v,\n",
        "            s0r,\n",
        "            s0d,\n",
        "            t0rl,\n",
        "            t0du,\n",
        "            t0dl,\n",
        "            t0ru,\n",
        "            m0l,\n",
        "            m0u,\n",
        "            d0,\n",
        "            sm,\n",
        "            levels=log2(BT),\n",
        "            recompute_C=recompute_C,\n",
        "            recompute_G=recompute_G,\n",
        "        ),\n",
        "        dim=3,\n",
        "    ).flatten(3, 4),\n",
        "    (Q, K, V, S0_r, S0_d, T0_rl, T0_du, T0_dl, T0_ru, M0_l, M0_u, D0, Sm),\n",
        "    verbose=True,\n",
        "    atol=0.01,\n",
        "    rtol=0.05,\n",
        ")"
      ]
    },
    {
      "cell_type": "markdown",
      "metadata": {},
      "source": [
        "# Full Layer"
      ]
    },
    {
      "cell_type": "code",
      "execution_count": null,
      "metadata": {},
      "outputs": [],
      "source": [
        "from plstm.torch.plstm_2d_layer import pLSTM2DLayer, pLSTM2DLayerConfig"
      ]
    },
    {
      "cell_type": "code",
      "execution_count": null,
      "metadata": {},
      "outputs": [],
      "source": [
        "B = 2\n",
        "D = 32\n",
        "H = 3\n",
        "X = Y = 64\n",
        "JK = JQ = 1\n",
        "JV = JO = JT = 1\n",
        "\n",
        "plstm = pLSTM2DLayer(\n",
        "    pLSTM2DLayerConfig(\n",
        "        mode=\"P\",\n",
        "        DK=D // JK,\n",
        "        num_heads=H,\n",
        "        DV=D // JV,\n",
        "        JQ=JQ,\n",
        "        JK=JK,\n",
        "        JV=JV,\n",
        "        JT=JT,\n",
        "        JO=JO,\n",
        "        input_dim=D,\n",
        "        sub_heads=8,\n",
        "        additional_magnitude=False,\n",
        "    )\n",
        ")"
      ]
    },
    {
      "cell_type": "code",
      "execution_count": null,
      "metadata": {},
      "outputs": [],
      "source": [
        "x = torch.ones([B, X, Y, H * D])\n",
        "\n",
        "plstm_tc = torch.compile(plstm)\n",
        "\n",
        "r = plstm(x)"
      ]
    },
    {
      "cell_type": "code",
      "execution_count": null,
      "metadata": {},
      "outputs": [],
      "source": [
        "r2 = plstm(x)"
      ]
    },
    {
      "cell_type": "code",
      "execution_count": null,
      "metadata": {},
      "outputs": [],
      "source": [
        "r3 = plstm_tc(x)"
      ]
    },
    {
      "cell_type": "code",
      "execution_count": null,
      "metadata": {},
      "outputs": [],
      "source": [
        "r4 = plstm_tc(x)"
      ]
    },
    {
      "cell_type": "code",
      "execution_count": null,
      "metadata": {},
      "outputs": [],
      "source": []
    }
  ],
  "metadata": {
    "kernelspec": {
      "display_name": "plstm_pt251jax0434cu124py311",
      "language": "python",
      "name": "python3"
    },
    "language_info": {
      "codemirror_mode": {
        "name": "ipython",
        "version": 3
      },
      "file_extension": ".py",
      "mimetype": "text/x-python",
      "name": "python",
      "nbconvert_exporter": "python",
      "pygments_lexer": "ipython3",
      "version": "3.11.11"
    }
  },
  "nbformat": 4,
  "nbformat_minor": 2
}
